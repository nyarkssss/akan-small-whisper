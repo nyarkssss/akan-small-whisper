{
  "nbformat": 4,
  "nbformat_minor": 0,
  "metadata": {
    "colab": {
      "provenance": [],
      "mount_file_id": "1VUJR9_vfjZsOy5pGwOk52dxo6ui2YSC2",
      "authorship_tag": "ABX9TyPZRDBVlqhkFqnTNye2Beqi"
    },
    "kernelspec": {
      "name": "python3",
      "display_name": "Python 3"
    },
    "language_info": {
      "name": "python"
    }
  },
  "cells": [
    {
      "cell_type": "code",
      "source": [
        "import pandas as pd\n",
        "import matplotlib.pyplot as plt"
      ],
      "metadata": {
        "id": "zB05bXfQxIA-"
      },
      "execution_count": 98,
      "outputs": []
    },
    {
      "cell_type": "code",
      "execution_count": 99,
      "metadata": {
        "id": "2sBYyMToxG9M"
      },
      "outputs": [],
      "source": [
        "transcriptions_df = pd.read_excel(\"/content/drive/MyDrive/Colab Notebooks/whispher-ak-gh-new-era/dataset/transcriptions-2000.xlsx\")"
      ]
    },
    {
      "cell_type": "code",
      "source": [
        "transcriptions_df.head(2)"
      ],
      "metadata": {
        "colab": {
          "base_uri": "https://localhost:8080/",
          "height": 254
        },
        "id": "ygicwrsjycNK",
        "outputId": "3bbfa38c-cb11-4018-892e-2beba5467667"
      },
      "execution_count": 100,
      "outputs": [
        {
          "output_type": "execute_result",
          "data": {
            "text/plain": [
              "   unamed  File No.            IMAGE_PATH  \\\n",
              "0       4     18932  Akan/images/0011.jpg   \n",
              "1    1277     15765  Akan/images/0021.jpg   \n",
              "\n",
              "                                       IMAGE_SRC_URL  \\\n",
              "0  https://c8.alamy.com/comp/PCCH2B/techiman-ghan...   \n",
              "1  https://media.istockphoto.com/id/1323846471/ph...   \n",
              "\n",
              "                                          AUDIO_PATH  \\\n",
              "0  Akan\\selected transcribed audios\\audios\\_image...   \n",
              "1  Akan\\selected transcribed audios\\audios\\_image...   \n",
              "\n",
              "                                      Transcriptions  SPEAKER_ID  \\\n",
              "0  Mmɔfra anan a ɔde bokiti ato nsu mu resaw. Asa...        6388   \n",
              "1  Akataasiaba wɔ ne gyaadze. Okitsa biribi wɔ ne...        3890   \n",
              "\n",
              "              ORG_NAME PROJECT_NAME LOCALE  GENDER  AGE            DEVICE  \\\n",
              "0  University of Ghana        Waxal  ak_gh    Male   21         TCL 5102O   \n",
              "1  University of Ghana        Waxal  ak_gh  Female   56  samsung SM-A022F   \n",
              "\n",
              "  ENVIRONMENT  YEAR                               Full Filename  \\\n",
              "0     Outdoor  2023  _image_0011_u893_5_1683649978142_18932.mp3   \n",
              "1      Indoor  2023  _image_0021_u122_1_1679478597335_15765.mp3   \n",
              "\n",
              "                               Filename  \n",
              "0  _image_0011_u893_5_1683649978142.mp3  \n",
              "1  _image_0021_u122_1_1679478597335.mp3  "
            ],
            "text/html": [
              "\n",
              "  <div id=\"df-c6cb1566-b8b9-4d1f-ae9a-c4de818f7bf5\" class=\"colab-df-container\">\n",
              "    <div>\n",
              "<style scoped>\n",
              "    .dataframe tbody tr th:only-of-type {\n",
              "        vertical-align: middle;\n",
              "    }\n",
              "\n",
              "    .dataframe tbody tr th {\n",
              "        vertical-align: top;\n",
              "    }\n",
              "\n",
              "    .dataframe thead th {\n",
              "        text-align: right;\n",
              "    }\n",
              "</style>\n",
              "<table border=\"1\" class=\"dataframe\">\n",
              "  <thead>\n",
              "    <tr style=\"text-align: right;\">\n",
              "      <th></th>\n",
              "      <th>unamed</th>\n",
              "      <th>File No.</th>\n",
              "      <th>IMAGE_PATH</th>\n",
              "      <th>IMAGE_SRC_URL</th>\n",
              "      <th>AUDIO_PATH</th>\n",
              "      <th>Transcriptions</th>\n",
              "      <th>SPEAKER_ID</th>\n",
              "      <th>ORG_NAME</th>\n",
              "      <th>PROJECT_NAME</th>\n",
              "      <th>LOCALE</th>\n",
              "      <th>GENDER</th>\n",
              "      <th>AGE</th>\n",
              "      <th>DEVICE</th>\n",
              "      <th>ENVIRONMENT</th>\n",
              "      <th>YEAR</th>\n",
              "      <th>Full Filename</th>\n",
              "      <th>Filename</th>\n",
              "    </tr>\n",
              "  </thead>\n",
              "  <tbody>\n",
              "    <tr>\n",
              "      <th>0</th>\n",
              "      <td>4</td>\n",
              "      <td>18932</td>\n",
              "      <td>Akan/images/0011.jpg</td>\n",
              "      <td>https://c8.alamy.com/comp/PCCH2B/techiman-ghan...</td>\n",
              "      <td>Akan\\selected transcribed audios\\audios\\_image...</td>\n",
              "      <td>Mmɔfra anan a ɔde bokiti ato nsu mu resaw. Asa...</td>\n",
              "      <td>6388</td>\n",
              "      <td>University of Ghana</td>\n",
              "      <td>Waxal</td>\n",
              "      <td>ak_gh</td>\n",
              "      <td>Male</td>\n",
              "      <td>21</td>\n",
              "      <td>TCL 5102O</td>\n",
              "      <td>Outdoor</td>\n",
              "      <td>2023</td>\n",
              "      <td>_image_0011_u893_5_1683649978142_18932.mp3</td>\n",
              "      <td>_image_0011_u893_5_1683649978142.mp3</td>\n",
              "    </tr>\n",
              "    <tr>\n",
              "      <th>1</th>\n",
              "      <td>1277</td>\n",
              "      <td>15765</td>\n",
              "      <td>Akan/images/0021.jpg</td>\n",
              "      <td>https://media.istockphoto.com/id/1323846471/ph...</td>\n",
              "      <td>Akan\\selected transcribed audios\\audios\\_image...</td>\n",
              "      <td>Akataasiaba wɔ ne gyaadze. Okitsa biribi wɔ ne...</td>\n",
              "      <td>3890</td>\n",
              "      <td>University of Ghana</td>\n",
              "      <td>Waxal</td>\n",
              "      <td>ak_gh</td>\n",
              "      <td>Female</td>\n",
              "      <td>56</td>\n",
              "      <td>samsung SM-A022F</td>\n",
              "      <td>Indoor</td>\n",
              "      <td>2023</td>\n",
              "      <td>_image_0021_u122_1_1679478597335_15765.mp3</td>\n",
              "      <td>_image_0021_u122_1_1679478597335.mp3</td>\n",
              "    </tr>\n",
              "  </tbody>\n",
              "</table>\n",
              "</div>\n",
              "    <div class=\"colab-df-buttons\">\n",
              "\n",
              "  <div class=\"colab-df-container\">\n",
              "    <button class=\"colab-df-convert\" onclick=\"convertToInteractive('df-c6cb1566-b8b9-4d1f-ae9a-c4de818f7bf5')\"\n",
              "            title=\"Convert this dataframe to an interactive table.\"\n",
              "            style=\"display:none;\">\n",
              "\n",
              "  <svg xmlns=\"http://www.w3.org/2000/svg\" height=\"24px\" viewBox=\"0 -960 960 960\">\n",
              "    <path d=\"M120-120v-720h720v720H120Zm60-500h600v-160H180v160Zm220 220h160v-160H400v160Zm0 220h160v-160H400v160ZM180-400h160v-160H180v160Zm440 0h160v-160H620v160ZM180-180h160v-160H180v160Zm440 0h160v-160H620v160Z\"/>\n",
              "  </svg>\n",
              "    </button>\n",
              "\n",
              "  <style>\n",
              "    .colab-df-container {\n",
              "      display:flex;\n",
              "      gap: 12px;\n",
              "    }\n",
              "\n",
              "    .colab-df-convert {\n",
              "      background-color: #E8F0FE;\n",
              "      border: none;\n",
              "      border-radius: 50%;\n",
              "      cursor: pointer;\n",
              "      display: none;\n",
              "      fill: #1967D2;\n",
              "      height: 32px;\n",
              "      padding: 0 0 0 0;\n",
              "      width: 32px;\n",
              "    }\n",
              "\n",
              "    .colab-df-convert:hover {\n",
              "      background-color: #E2EBFA;\n",
              "      box-shadow: 0px 1px 2px rgba(60, 64, 67, 0.3), 0px 1px 3px 1px rgba(60, 64, 67, 0.15);\n",
              "      fill: #174EA6;\n",
              "    }\n",
              "\n",
              "    .colab-df-buttons div {\n",
              "      margin-bottom: 4px;\n",
              "    }\n",
              "\n",
              "    [theme=dark] .colab-df-convert {\n",
              "      background-color: #3B4455;\n",
              "      fill: #D2E3FC;\n",
              "    }\n",
              "\n",
              "    [theme=dark] .colab-df-convert:hover {\n",
              "      background-color: #434B5C;\n",
              "      box-shadow: 0px 1px 3px 1px rgba(0, 0, 0, 0.15);\n",
              "      filter: drop-shadow(0px 1px 2px rgba(0, 0, 0, 0.3));\n",
              "      fill: #FFFFFF;\n",
              "    }\n",
              "  </style>\n",
              "\n",
              "    <script>\n",
              "      const buttonEl =\n",
              "        document.querySelector('#df-c6cb1566-b8b9-4d1f-ae9a-c4de818f7bf5 button.colab-df-convert');\n",
              "      buttonEl.style.display =\n",
              "        google.colab.kernel.accessAllowed ? 'block' : 'none';\n",
              "\n",
              "      async function convertToInteractive(key) {\n",
              "        const element = document.querySelector('#df-c6cb1566-b8b9-4d1f-ae9a-c4de818f7bf5');\n",
              "        const dataTable =\n",
              "          await google.colab.kernel.invokeFunction('convertToInteractive',\n",
              "                                                    [key], {});\n",
              "        if (!dataTable) return;\n",
              "\n",
              "        const docLinkHtml = 'Like what you see? Visit the ' +\n",
              "          '<a target=\"_blank\" href=https://colab.research.google.com/notebooks/data_table.ipynb>data table notebook</a>'\n",
              "          + ' to learn more about interactive tables.';\n",
              "        element.innerHTML = '';\n",
              "        dataTable['output_type'] = 'display_data';\n",
              "        await google.colab.output.renderOutput(dataTable, element);\n",
              "        const docLink = document.createElement('div');\n",
              "        docLink.innerHTML = docLinkHtml;\n",
              "        element.appendChild(docLink);\n",
              "      }\n",
              "    </script>\n",
              "  </div>\n",
              "\n",
              "\n",
              "<div id=\"df-99ac4aee-7b17-4ede-a991-30b9c1464468\">\n",
              "  <button class=\"colab-df-quickchart\" onclick=\"quickchart('df-99ac4aee-7b17-4ede-a991-30b9c1464468')\"\n",
              "            title=\"Suggest charts\"\n",
              "            style=\"display:none;\">\n",
              "\n",
              "<svg xmlns=\"http://www.w3.org/2000/svg\" height=\"24px\"viewBox=\"0 0 24 24\"\n",
              "     width=\"24px\">\n",
              "    <g>\n",
              "        <path d=\"M19 3H5c-1.1 0-2 .9-2 2v14c0 1.1.9 2 2 2h14c1.1 0 2-.9 2-2V5c0-1.1-.9-2-2-2zM9 17H7v-7h2v7zm4 0h-2V7h2v10zm4 0h-2v-4h2v4z\"/>\n",
              "    </g>\n",
              "</svg>\n",
              "  </button>\n",
              "\n",
              "<style>\n",
              "  .colab-df-quickchart {\n",
              "      --bg-color: #E8F0FE;\n",
              "      --fill-color: #1967D2;\n",
              "      --hover-bg-color: #E2EBFA;\n",
              "      --hover-fill-color: #174EA6;\n",
              "      --disabled-fill-color: #AAA;\n",
              "      --disabled-bg-color: #DDD;\n",
              "  }\n",
              "\n",
              "  [theme=dark] .colab-df-quickchart {\n",
              "      --bg-color: #3B4455;\n",
              "      --fill-color: #D2E3FC;\n",
              "      --hover-bg-color: #434B5C;\n",
              "      --hover-fill-color: #FFFFFF;\n",
              "      --disabled-bg-color: #3B4455;\n",
              "      --disabled-fill-color: #666;\n",
              "  }\n",
              "\n",
              "  .colab-df-quickchart {\n",
              "    background-color: var(--bg-color);\n",
              "    border: none;\n",
              "    border-radius: 50%;\n",
              "    cursor: pointer;\n",
              "    display: none;\n",
              "    fill: var(--fill-color);\n",
              "    height: 32px;\n",
              "    padding: 0;\n",
              "    width: 32px;\n",
              "  }\n",
              "\n",
              "  .colab-df-quickchart:hover {\n",
              "    background-color: var(--hover-bg-color);\n",
              "    box-shadow: 0 1px 2px rgba(60, 64, 67, 0.3), 0 1px 3px 1px rgba(60, 64, 67, 0.15);\n",
              "    fill: var(--button-hover-fill-color);\n",
              "  }\n",
              "\n",
              "  .colab-df-quickchart-complete:disabled,\n",
              "  .colab-df-quickchart-complete:disabled:hover {\n",
              "    background-color: var(--disabled-bg-color);\n",
              "    fill: var(--disabled-fill-color);\n",
              "    box-shadow: none;\n",
              "  }\n",
              "\n",
              "  .colab-df-spinner {\n",
              "    border: 2px solid var(--fill-color);\n",
              "    border-color: transparent;\n",
              "    border-bottom-color: var(--fill-color);\n",
              "    animation:\n",
              "      spin 1s steps(1) infinite;\n",
              "  }\n",
              "\n",
              "  @keyframes spin {\n",
              "    0% {\n",
              "      border-color: transparent;\n",
              "      border-bottom-color: var(--fill-color);\n",
              "      border-left-color: var(--fill-color);\n",
              "    }\n",
              "    20% {\n",
              "      border-color: transparent;\n",
              "      border-left-color: var(--fill-color);\n",
              "      border-top-color: var(--fill-color);\n",
              "    }\n",
              "    30% {\n",
              "      border-color: transparent;\n",
              "      border-left-color: var(--fill-color);\n",
              "      border-top-color: var(--fill-color);\n",
              "      border-right-color: var(--fill-color);\n",
              "    }\n",
              "    40% {\n",
              "      border-color: transparent;\n",
              "      border-right-color: var(--fill-color);\n",
              "      border-top-color: var(--fill-color);\n",
              "    }\n",
              "    60% {\n",
              "      border-color: transparent;\n",
              "      border-right-color: var(--fill-color);\n",
              "    }\n",
              "    80% {\n",
              "      border-color: transparent;\n",
              "      border-right-color: var(--fill-color);\n",
              "      border-bottom-color: var(--fill-color);\n",
              "    }\n",
              "    90% {\n",
              "      border-color: transparent;\n",
              "      border-bottom-color: var(--fill-color);\n",
              "    }\n",
              "  }\n",
              "</style>\n",
              "\n",
              "  <script>\n",
              "    async function quickchart(key) {\n",
              "      const quickchartButtonEl =\n",
              "        document.querySelector('#' + key + ' button');\n",
              "      quickchartButtonEl.disabled = true;  // To prevent multiple clicks.\n",
              "      quickchartButtonEl.classList.add('colab-df-spinner');\n",
              "      try {\n",
              "        const charts = await google.colab.kernel.invokeFunction(\n",
              "            'suggestCharts', [key], {});\n",
              "      } catch (error) {\n",
              "        console.error('Error during call to suggestCharts:', error);\n",
              "      }\n",
              "      quickchartButtonEl.classList.remove('colab-df-spinner');\n",
              "      quickchartButtonEl.classList.add('colab-df-quickchart-complete');\n",
              "    }\n",
              "    (() => {\n",
              "      let quickchartButtonEl =\n",
              "        document.querySelector('#df-99ac4aee-7b17-4ede-a991-30b9c1464468 button');\n",
              "      quickchartButtonEl.style.display =\n",
              "        google.colab.kernel.accessAllowed ? 'block' : 'none';\n",
              "    })();\n",
              "  </script>\n",
              "</div>\n",
              "\n",
              "    </div>\n",
              "  </div>\n"
            ],
            "application/vnd.google.colaboratory.intrinsic+json": {
              "type": "dataframe",
              "variable_name": "transcriptions_df",
              "summary": "{\n  \"name\": \"transcriptions_df\",\n  \"rows\": 2000,\n  \"fields\": [\n    {\n      \"column\": \"unamed\",\n      \"properties\": {\n        \"dtype\": \"number\",\n        \"std\": 918,\n        \"min\": 1,\n        \"max\": 3166,\n        \"num_unique_values\": 1536,\n        \"samples\": [\n          9,\n          1391,\n          1096\n        ],\n        \"semantic_type\": \"\",\n        \"description\": \"\"\n      }\n    },\n    {\n      \"column\": \"File No.\",\n      \"properties\": {\n        \"dtype\": \"number\",\n        \"std\": 5536,\n        \"min\": 20,\n        \"max\": 18986,\n        \"num_unique_values\": 2000,\n        \"samples\": [\n          14827,\n          10566,\n          13951\n        ],\n        \"semantic_type\": \"\",\n        \"description\": \"\"\n      }\n    },\n    {\n      \"column\": \"IMAGE_PATH\",\n      \"properties\": {\n        \"dtype\": \"category\",\n        \"num_unique_values\": 816,\n        \"samples\": [\n          \"Akan/images/0198.jpg\",\n          \"Akan/images/0323.jpg\",\n          \"Akan/images/0922.jpg\"\n        ],\n        \"semantic_type\": \"\",\n        \"description\": \"\"\n      }\n    },\n    {\n      \"column\": \"IMAGE_SRC_URL\",\n      \"properties\": {\n        \"dtype\": \"category\",\n        \"num_unique_values\": 816,\n        \"samples\": [\n          \"https://i.ytimg.com/vi/dLbe_pKa-UQ/maxresdefault.jpg\",\n          \"https://i.pinimg.com/originals/fe/67/5e/fe675e38d06471b143516e57c9256482.jpg\",\n          \"https://images.theconversation.com/files/492311/original/file-20221028-41756-rlclkr.jpeg?ixlib=rb-1.1.0&q=45&auto=format&w=926&fit=clip\"\n        ],\n        \"semantic_type\": \"\",\n        \"description\": \"\"\n      }\n    },\n    {\n      \"column\": \"AUDIO_PATH\",\n      \"properties\": {\n        \"dtype\": \"string\",\n        \"num_unique_values\": 2000,\n        \"samples\": [\n          \"Akan\\\\selected transcribed audios\\\\audios\\\\ak_gh_image_0930_u238_1_1680092429538_14827.mp3\",\n          \"Akan\\\\selected transcribed audios\\\\audios\\\\ak_gh_image_0102_u1069_1_1682474290068_10566.mp3\",\n          \"Akan\\\\selected transcribed audios\\\\audios\\\\ak_gh_image_0576_u1609_1_1683068714942_13951.mp3\"\n        ],\n        \"semantic_type\": \"\",\n        \"description\": \"\"\n      }\n    },\n    {\n      \"column\": \"Transcriptions\",\n      \"properties\": {\n        \"dtype\": \"string\",\n        \"num_unique_values\": 2000,\n        \"samples\": [\n          \"Mmabaawa mmienu de ntoma asiesie w\\u0254n ho gyina badwam \\u025bresa. Mmabaawa yi de ade fitaa ab\\u0254 w\\u0254n ti, w\\u0254de awene\\u025b agugu w\\u0254n nsa ne w\\u0254n k\\u0254n mu. Amamfo\\u0254 gyinagyina w\\u0254n akyi a w\\u0254rehw\\u025b w\\u0254n.\",\n          \"\\u0190ha y\\u025b dwam, na ntoma bebree sss . Sens\\u025bn h\\u0254. Maame bi s so ade\\u025b bi w\\u0254 ne ti so a \\u0254ret\\u0254n a \\u0254sane kita bi w\\u0254 ne nsam, na nkur\\u0254fo\\u0254 di n'akyi a w\\u0254retwam.\",\n          \"Nyimpad\\u0254m a woehyia a binom tsenatsena h\\u0254, na binom so gyina h\\u0254n enyim a w\\u0254rekasa kyer\\u025b h\\u0254n. Na w\\u0254akyer\\u025bw h\\u0254n ekyir h\\u0254 d\\u025b Aban Sikas\\u025bm Nhyehy\\u025b\\u025b ho ma Ebibiman.\"\n        ],\n        \"semantic_type\": \"\",\n        \"description\": \"\"\n      }\n    },\n    {\n      \"column\": \"SPEAKER_ID\",\n      \"properties\": {\n        \"dtype\": \"number\",\n        \"std\": 2333,\n        \"min\": 2,\n        \"max\": 8045,\n        \"num_unique_values\": 354,\n        \"samples\": [\n          5589,\n          5597,\n          4669\n        ],\n        \"semantic_type\": \"\",\n        \"description\": \"\"\n      }\n    },\n    {\n      \"column\": \"ORG_NAME\",\n      \"properties\": {\n        \"dtype\": \"category\",\n        \"num_unique_values\": 1,\n        \"samples\": [\n          \"University of Ghana\"\n        ],\n        \"semantic_type\": \"\",\n        \"description\": \"\"\n      }\n    },\n    {\n      \"column\": \"PROJECT_NAME\",\n      \"properties\": {\n        \"dtype\": \"category\",\n        \"num_unique_values\": 1,\n        \"samples\": [\n          \"Waxal\"\n        ],\n        \"semantic_type\": \"\",\n        \"description\": \"\"\n      }\n    },\n    {\n      \"column\": \"LOCALE\",\n      \"properties\": {\n        \"dtype\": \"category\",\n        \"num_unique_values\": 1,\n        \"samples\": [\n          \"ak_gh\"\n        ],\n        \"semantic_type\": \"\",\n        \"description\": \"\"\n      }\n    },\n    {\n      \"column\": \"GENDER\",\n      \"properties\": {\n        \"dtype\": \"category\",\n        \"num_unique_values\": 2,\n        \"samples\": [\n          \"Female\"\n        ],\n        \"semantic_type\": \"\",\n        \"description\": \"\"\n      }\n    },\n    {\n      \"column\": \"AGE\",\n      \"properties\": {\n        \"dtype\": \"number\",\n        \"std\": 10,\n        \"min\": 16,\n        \"max\": 71,\n        \"num_unique_values\": 42,\n        \"samples\": [\n          18\n        ],\n        \"semantic_type\": \"\",\n        \"description\": \"\"\n      }\n    },\n    {\n      \"column\": \"DEVICE\",\n      \"properties\": {\n        \"dtype\": \"category\",\n        \"num_unique_values\": 151,\n        \"samples\": [\n          \"ITEL MOBILE LIMITED itel P551W\"\n        ],\n        \"semantic_type\": \"\",\n        \"description\": \"\"\n      }\n    },\n    {\n      \"column\": \"ENVIRONMENT\",\n      \"properties\": {\n        \"dtype\": \"category\",\n        \"num_unique_values\": 4,\n        \"samples\": [\n          \"Indoor\"\n        ],\n        \"semantic_type\": \"\",\n        \"description\": \"\"\n      }\n    },\n    {\n      \"column\": \"YEAR\",\n      \"properties\": {\n        \"dtype\": \"number\",\n        \"std\": 0,\n        \"min\": 2023,\n        \"max\": 2023,\n        \"num_unique_values\": 1,\n        \"samples\": [\n          2023\n        ],\n        \"semantic_type\": \"\",\n        \"description\": \"\"\n      }\n    },\n    {\n      \"column\": \"Full Filename\",\n      \"properties\": {\n        \"dtype\": \"string\",\n        \"num_unique_values\": 2000,\n        \"samples\": [\n          \"ak_gh_image_0930_u238_1_1680092429538_14827.mp3\"\n        ],\n        \"semantic_type\": \"\",\n        \"description\": \"\"\n      }\n    },\n    {\n      \"column\": \"Filename\",\n      \"properties\": {\n        \"dtype\": \"string\",\n        \"num_unique_values\": 2000,\n        \"samples\": [\n          \"ak_gh_image_0930_u238_1_1680092429538.mp3\"\n        ],\n        \"semantic_type\": \"\",\n        \"description\": \"\"\n      }\n    }\n  ]\n}"
            }
          },
          "metadata": {},
          "execution_count": 100
        }
      ]
    },
    {
      "cell_type": "markdown",
      "source": [
        "### **Data Preprocessing**"
      ],
      "metadata": {
        "id": "HsimJNOhLbqj"
      }
    },
    {
      "cell_type": "markdown",
      "source": [
        "**Inspect Characters inside Transcriptions**"
      ],
      "metadata": {
        "id": "CfXEoqw6bE_8"
      }
    },
    {
      "cell_type": "code",
      "source": [
        "def extract_all_chars(batch):\n",
        "  # extract tokens from transcriptions\n",
        "  all_text = \" \".join(batch[\"Transcriptions\"])\n",
        "  vocab = list(set(all_text))\n",
        "  return {\"vocab\": [vocab], \"all_text\": [all_text]}"
      ],
      "metadata": {
        "id": "0STRiW0dLYjo"
      },
      "execution_count": 101,
      "outputs": []
    },
    {
      "cell_type": "code",
      "source": [
        "def check_transcription_tokens(transcriptions_train):\n",
        "\n",
        "  # get unique characters or tokens from dataset\n",
        "  all_vocabs = []\n",
        "    # Iterate over each row in the transcriptions_train Series\n",
        "  for row in transcriptions_train:\n",
        "    # Access the 'vocab' list within the dictionary in each row\n",
        "    all_vocabs.extend(row['vocab'][0])\n",
        "\n",
        "  # Create a set to remove duplicate vocabs\n",
        "  vocab_set = set(all_vocabs)\n",
        "\n",
        "  return vocab_set"
      ],
      "metadata": {
        "id": "YLqH38uFXZkY"
      },
      "execution_count": 102,
      "outputs": []
    },
    {
      "cell_type": "code",
      "source": [
        "def check_vocab_len(vocab_set):\n",
        "  # Get all unique tokens in a dict\n",
        "  vocab_all_dict = {k: v for k, v in enumerate(vocab_set)}\n",
        "\n",
        "  vocab_len = len(vocab_all_dict)\n",
        "\n",
        "  print(f\"The length of our Akan Twi vocabulary is {vocab_len}\")\n",
        "\n",
        "  return vocab_all_dict"
      ],
      "metadata": {
        "id": "QF4x_svwX0nM"
      },
      "execution_count": 103,
      "outputs": []
    },
    {
      "cell_type": "code",
      "source": [
        "# extract tokens from Transcription\n",
        "\n",
        "transcriptions_train = transcriptions_df.apply(extract_all_chars, axis=1)"
      ],
      "metadata": {
        "id": "fz0PzLlViQ2H"
      },
      "execution_count": 104,
      "outputs": []
    },
    {
      "cell_type": "code",
      "source": [
        "# check transcriptions vocab information\n",
        "\n",
        "check_vocab_len(check_transcription_tokens(transcriptions_train))"
      ],
      "metadata": {
        "colab": {
          "base_uri": "https://localhost:8080/"
        },
        "collapsed": true,
        "id": "_2G5vBJCX6-n",
        "outputId": "8dae0dc4-e02d-42ca-a967-d28c00bf0194"
      },
      "execution_count": 105,
      "outputs": [
        {
          "output_type": "stream",
          "name": "stdout",
          "text": [
            "The length of our Akan Twi vocabulary is 70\n"
          ]
        },
        {
          "output_type": "execute_result",
          "data": {
            "text/plain": [
              "{0: 'd',\n",
              " 1: ' ',\n",
              " 2: 'g',\n",
              " 3: 'e',\n",
              " 4: '.',\n",
              " 5: 'D',\n",
              " 6: 'x',\n",
              " 7: 'S',\n",
              " 8: 'H',\n",
              " 9: 'T',\n",
              " 10: 'u',\n",
              " 11: 'z',\n",
              " 12: 'O',\n",
              " 13: 'r',\n",
              " 14: 'Ɔ',\n",
              " 15: 'U',\n",
              " 16: 'Z',\n",
              " 17: '!',\n",
              " 18: 'f',\n",
              " 19: 'M',\n",
              " 20: 'a',\n",
              " 21: 'y',\n",
              " 22: 'N',\n",
              " 23: 'o',\n",
              " 24: 'G',\n",
              " 25: 'X',\n",
              " 26: 'Q',\n",
              " 27: ',',\n",
              " 28: 'v',\n",
              " 29: ')',\n",
              " 30: 'W',\n",
              " 31: 'V',\n",
              " 32: 'P',\n",
              " 33: '’',\n",
              " 34: ';',\n",
              " 35: 'Ɛ',\n",
              " 36: 'b',\n",
              " 37: 'h',\n",
              " 38: 'I',\n",
              " 39: '…',\n",
              " 40: 'Ↄ',\n",
              " 41: 'L',\n",
              " 42: 't',\n",
              " 43: 'R',\n",
              " 44: 'q',\n",
              " 45: 'p',\n",
              " 46: 's',\n",
              " 47: 'k',\n",
              " 48: 'F',\n",
              " 49: 'w',\n",
              " 50: '=',\n",
              " 51: 'j',\n",
              " 52: 'C',\n",
              " 53: 'A',\n",
              " 54: 'i',\n",
              " 55: \"'\",\n",
              " 56: '-',\n",
              " 57: 'ɛ',\n",
              " 58: 'E',\n",
              " 59: 'ℇ',\n",
              " 60: '3',\n",
              " 61: 'ƒ',\n",
              " 62: 'l',\n",
              " 63: 'K',\n",
              " 64: 'ɔ',\n",
              " 65: 'B',\n",
              " 66: 'Y',\n",
              " 67: 'm',\n",
              " 68: 'n',\n",
              " 69: 'c'}"
            ]
          },
          "metadata": {},
          "execution_count": 105
        }
      ]
    },
    {
      "cell_type": "markdown",
      "source": [
        "**Replace or Remove Unknown Characters Transcriptions**"
      ],
      "metadata": {
        "id": "qSIrdZxrb0XY"
      }
    },
    {
      "cell_type": "code",
      "source": [
        "import re\n",
        "chars_to_ignore_regex = '[\\=\\!\\�]'\n",
        "\n",
        "def remove_special_characters(batch):\n",
        "  # remove some characters from transcriptions\n",
        "  batch[\"Transcriptions\"] = re.sub(chars_to_ignore_regex, '', batch[\"Transcriptions\"]) + \" \"\n",
        "  return batch"
      ],
      "metadata": {
        "id": "WF5GCmKjcL1_"
      },
      "execution_count": 106,
      "outputs": []
    },
    {
      "cell_type": "code",
      "source": [
        "def replace_weird_characters(batch):\n",
        "  # replace out of place characters\n",
        "  batch[\"Transcriptions\"] = re.sub('[ℇ]', 'Ɛ', batch[\"Transcriptions\"])\n",
        "  batch[\"Transcriptions\"] = re.sub('[Ↄ]', 'Ɔ', batch[\"Transcriptions\"])\n",
        "  batch[\"Transcriptions\"] = re.sub('[ƒ]', 'f', batch[\"Transcriptions\"])\n",
        "  batch[\"Transcriptions\"] = re.sub('[…]', ' ', batch[\"Transcriptions\"])\n",
        "  batch[\"Transcriptions\"] = re.sub('[3]', 'ɛ', batch[\"Transcriptions\"])\n",
        "  batch[\"Transcriptions\"] = re.sub('[’]', \"'\", batch[\"Transcriptions\"])\n",
        "  batch[\"Transcriptions\"] = re.sub('[)]', 'ɔ', batch[\"Transcriptions\"])\n",
        "  return batch\n"
      ],
      "metadata": {
        "id": "hL936ND4bxok"
      },
      "execution_count": 107,
      "outputs": []
    },
    {
      "cell_type": "code",
      "source": [
        "# preprocess transcriptions\n",
        "\n",
        "transcriptions_df = transcriptions_df.apply(remove_special_characters, axis=1)\n",
        "transcriptions_df = transcriptions_df.apply(replace_weird_characters, axis=1)"
      ],
      "metadata": {
        "id": "7xXuu7sUiboj"
      },
      "execution_count": 108,
      "outputs": []
    },
    {
      "cell_type": "code",
      "source": [
        "# confirm transcription preprocessing\n",
        "\n",
        "transcriptions_test = transcriptions_df.apply(extract_all_chars, axis=1)\n",
        "check_vocab_len(check_transcription_tokens(transcriptions_test))"
      ],
      "metadata": {
        "colab": {
          "base_uri": "https://localhost:8080/"
        },
        "id": "JLaCbKlMc28N",
        "outputId": "62ef525c-b01e-4bdd-c0ed-ebb35621eb4c"
      },
      "execution_count": 109,
      "outputs": [
        {
          "output_type": "stream",
          "name": "stdout",
          "text": [
            "The length of our Akan Twi vocabulary is 61\n"
          ]
        },
        {
          "output_type": "execute_result",
          "data": {
            "text/plain": [
              "{0: 'd',\n",
              " 1: ' ',\n",
              " 2: 'g',\n",
              " 3: 'e',\n",
              " 4: '.',\n",
              " 5: 'D',\n",
              " 6: 'x',\n",
              " 7: 'S',\n",
              " 8: 'H',\n",
              " 9: 'T',\n",
              " 10: 'u',\n",
              " 11: 'z',\n",
              " 12: 'O',\n",
              " 13: 'r',\n",
              " 14: 'Ɔ',\n",
              " 15: 'U',\n",
              " 16: 'Z',\n",
              " 17: 'f',\n",
              " 18: 'M',\n",
              " 19: 'a',\n",
              " 20: 'y',\n",
              " 21: 'N',\n",
              " 22: 'o',\n",
              " 23: 'G',\n",
              " 24: 'X',\n",
              " 25: 'Q',\n",
              " 26: ',',\n",
              " 27: 'v',\n",
              " 28: 'W',\n",
              " 29: 'V',\n",
              " 30: 'P',\n",
              " 31: ';',\n",
              " 32: 'Ɛ',\n",
              " 33: 'b',\n",
              " 34: 'h',\n",
              " 35: 'I',\n",
              " 36: 'L',\n",
              " 37: 't',\n",
              " 38: 'R',\n",
              " 39: 'q',\n",
              " 40: 'p',\n",
              " 41: 's',\n",
              " 42: 'k',\n",
              " 43: 'F',\n",
              " 44: 'w',\n",
              " 45: 'j',\n",
              " 46: 'C',\n",
              " 47: 'A',\n",
              " 48: 'i',\n",
              " 49: \"'\",\n",
              " 50: '-',\n",
              " 51: 'ɛ',\n",
              " 52: 'E',\n",
              " 53: 'l',\n",
              " 54: 'K',\n",
              " 55: 'ɔ',\n",
              " 56: 'B',\n",
              " 57: 'Y',\n",
              " 58: 'm',\n",
              " 59: 'n',\n",
              " 60: 'c'}"
            ]
          },
          "metadata": {},
          "execution_count": 109
        }
      ]
    },
    {
      "cell_type": "code",
      "source": [
        "transcriptions_df.to_excel(\"/content/drive/MyDrive/Colab Notebooks/whispher-ak-gh-new-era/dataset/prep-transcriptions-2000.xlsx\", index=False)"
      ],
      "metadata": {
        "id": "mIC3RRRYcDrD"
      },
      "execution_count": 110,
      "outputs": []
    },
    {
      "cell_type": "markdown",
      "source": [
        "### **Prepare Data for Whisper ASR**"
      ],
      "metadata": {
        "id": "vS86m8yUvv39"
      }
    },
    {
      "cell_type": "code",
      "source": [
        "prep_transcriptions_df = pd.read_excel(\"/content/drive/MyDrive/Colab Notebooks/whispher-ak-gh-new-era/dataset/prep-transcriptions-2000.xlsx\")"
      ],
      "metadata": {
        "id": "93uIaggHv8Uh"
      },
      "execution_count": 111,
      "outputs": []
    },
    {
      "cell_type": "code",
      "source": [
        "prep_transcriptions_df.columns"
      ],
      "metadata": {
        "colab": {
          "base_uri": "https://localhost:8080/"
        },
        "id": "LfxjUCR6wFu3",
        "outputId": "0f65b507-c363-4ea2-d46a-74865ca0d0b9"
      },
      "execution_count": 112,
      "outputs": [
        {
          "output_type": "execute_result",
          "data": {
            "text/plain": [
              "Index(['unamed', 'File No.', 'IMAGE_PATH', 'IMAGE_SRC_URL', 'AUDIO_PATH',\n",
              "       'Transcriptions', 'SPEAKER_ID', 'ORG_NAME', 'PROJECT_NAME', 'LOCALE',\n",
              "       'GENDER', 'AGE', 'DEVICE', 'ENVIRONMENT', 'YEAR', 'Full Filename',\n",
              "       'Filename'],\n",
              "      dtype='object')"
            ]
          },
          "metadata": {},
          "execution_count": 112
        }
      ]
    },
    {
      "cell_type": "code",
      "source": [
        "unneccessary_columns = ['unamed', 'File No.', 'IMAGE_PATH', 'IMAGE_SRC_URL','AUDIO_PATH', 'SPEAKER_ID', 'ORG_NAME','PROJECT_NAME', 'LOCALE', 'GENDER', 'AGE', 'DEVICE', 'ENVIRONMENT','YEAR', 'Filename']\n",
        "\n",
        "prep_transcriptions_df = prep_transcriptions_df.drop(unneccessary_columns, axis=1)"
      ],
      "metadata": {
        "id": "VF5-gLgdwJxy"
      },
      "execution_count": 113,
      "outputs": []
    },
    {
      "cell_type": "code",
      "source": [
        "# Switch the positions of columns 'Transcriptions' and 'Full Filename'\n",
        "prep_transcriptions_df =prep_transcriptions_df[['Full Filename', 'Transcriptions']]"
      ],
      "metadata": {
        "id": "WXccaFp7xbAd"
      },
      "execution_count": 114,
      "outputs": []
    },
    {
      "cell_type": "code",
      "source": [
        "# Rename columns\n",
        "prep_transcriptions_df.columns = ['file_name', 'transcription']"
      ],
      "metadata": {
        "id": "qQDq25ahyBs_"
      },
      "execution_count": 115,
      "outputs": []
    },
    {
      "cell_type": "code",
      "source": [
        "prep_transcriptions_df.head(10)"
      ],
      "metadata": {
        "id": "vOdAhvPawd1l",
        "colab": {
          "base_uri": "https://localhost:8080/",
          "height": 363
        },
        "outputId": "e5df0f65-3a18-43b9-dae2-74f4c078f7a1"
      },
      "execution_count": 116,
      "outputs": [
        {
          "output_type": "execute_result",
          "data": {
            "text/plain": [
              "                                    file_name  \\\n",
              "0  _image_0011_u893_5_1683649978142_18932.mp3   \n",
              "1  _image_0021_u122_1_1679478597335_15765.mp3   \n",
              "2  _image_0021_u192_1_1679697868381_03106.mp3   \n",
              "3  _image_0027_u190_1_1679725603456_09436.mp3   \n",
              "4  _image_0042_u193_1_1679693018754_03110.mp3   \n",
              "5  _image_0045_u189_1_1679437808712_15775.mp3   \n",
              "6  _image_0052_u192_1_1679698531375_15774.mp3   \n",
              "7   _image_0052_u26_1_1679479240865_18939.mp3   \n",
              "8   _image_0067_u26_1_1679482591551_06277.mp3   \n",
              "9   _image_0076_u26_1_1679488708020_06278.mp3   \n",
              "\n",
              "                                       transcription  \n",
              "0  Mmɔfra anan a ɔde bokiti ato nsu mu resaw. Asa...  \n",
              "1  Akataasiaba wɔ ne gyaadze. Okitsa biribi wɔ ne...  \n",
              "2  Ɔbea bi gyina kitchen a ɔkura fon wɔ ne nsam a...  \n",
              "3  Ɔbaa bi hyɛ ataade tuntum. Ɔtena akonnwa so. L...  \n",
              "4  Papa penyin bi te egua so, na abranteɛ bi kita...  \n",
              "5  Obronin a nkwadaa atwa ne ho ahyia a wɔn ani a...  \n",
              "6  Mmayewa soso nneɛma a wɔarape wɔ ade mu ɛde re...  \n",
              "7  Mmesiamma waato santen a wɔde nnoɔma asoɛsoa w...  \n",
              "8  Iguam a adzetɔnfo wɔtsena hɔn nneɛma ekyir, na...  \n",
              "9  Aberanteɛ bi a wahyehyɛ ne ho kamakama. N'afad...  "
            ],
            "text/html": [
              "\n",
              "  <div id=\"df-d0f61cdb-f7d4-4ba3-a156-23c738f6188f\" class=\"colab-df-container\">\n",
              "    <div>\n",
              "<style scoped>\n",
              "    .dataframe tbody tr th:only-of-type {\n",
              "        vertical-align: middle;\n",
              "    }\n",
              "\n",
              "    .dataframe tbody tr th {\n",
              "        vertical-align: top;\n",
              "    }\n",
              "\n",
              "    .dataframe thead th {\n",
              "        text-align: right;\n",
              "    }\n",
              "</style>\n",
              "<table border=\"1\" class=\"dataframe\">\n",
              "  <thead>\n",
              "    <tr style=\"text-align: right;\">\n",
              "      <th></th>\n",
              "      <th>file_name</th>\n",
              "      <th>transcription</th>\n",
              "    </tr>\n",
              "  </thead>\n",
              "  <tbody>\n",
              "    <tr>\n",
              "      <th>0</th>\n",
              "      <td>_image_0011_u893_5_1683649978142_18932.mp3</td>\n",
              "      <td>Mmɔfra anan a ɔde bokiti ato nsu mu resaw. Asa...</td>\n",
              "    </tr>\n",
              "    <tr>\n",
              "      <th>1</th>\n",
              "      <td>_image_0021_u122_1_1679478597335_15765.mp3</td>\n",
              "      <td>Akataasiaba wɔ ne gyaadze. Okitsa biribi wɔ ne...</td>\n",
              "    </tr>\n",
              "    <tr>\n",
              "      <th>2</th>\n",
              "      <td>_image_0021_u192_1_1679697868381_03106.mp3</td>\n",
              "      <td>Ɔbea bi gyina kitchen a ɔkura fon wɔ ne nsam a...</td>\n",
              "    </tr>\n",
              "    <tr>\n",
              "      <th>3</th>\n",
              "      <td>_image_0027_u190_1_1679725603456_09436.mp3</td>\n",
              "      <td>Ɔbaa bi hyɛ ataade tuntum. Ɔtena akonnwa so. L...</td>\n",
              "    </tr>\n",
              "    <tr>\n",
              "      <th>4</th>\n",
              "      <td>_image_0042_u193_1_1679693018754_03110.mp3</td>\n",
              "      <td>Papa penyin bi te egua so, na abranteɛ bi kita...</td>\n",
              "    </tr>\n",
              "    <tr>\n",
              "      <th>5</th>\n",
              "      <td>_image_0045_u189_1_1679437808712_15775.mp3</td>\n",
              "      <td>Obronin a nkwadaa atwa ne ho ahyia a wɔn ani a...</td>\n",
              "    </tr>\n",
              "    <tr>\n",
              "      <th>6</th>\n",
              "      <td>_image_0052_u192_1_1679698531375_15774.mp3</td>\n",
              "      <td>Mmayewa soso nneɛma a wɔarape wɔ ade mu ɛde re...</td>\n",
              "    </tr>\n",
              "    <tr>\n",
              "      <th>7</th>\n",
              "      <td>_image_0052_u26_1_1679479240865_18939.mp3</td>\n",
              "      <td>Mmesiamma waato santen a wɔde nnoɔma asoɛsoa w...</td>\n",
              "    </tr>\n",
              "    <tr>\n",
              "      <th>8</th>\n",
              "      <td>_image_0067_u26_1_1679482591551_06277.mp3</td>\n",
              "      <td>Iguam a adzetɔnfo wɔtsena hɔn nneɛma ekyir, na...</td>\n",
              "    </tr>\n",
              "    <tr>\n",
              "      <th>9</th>\n",
              "      <td>_image_0076_u26_1_1679488708020_06278.mp3</td>\n",
              "      <td>Aberanteɛ bi a wahyehyɛ ne ho kamakama. N'afad...</td>\n",
              "    </tr>\n",
              "  </tbody>\n",
              "</table>\n",
              "</div>\n",
              "    <div class=\"colab-df-buttons\">\n",
              "\n",
              "  <div class=\"colab-df-container\">\n",
              "    <button class=\"colab-df-convert\" onclick=\"convertToInteractive('df-d0f61cdb-f7d4-4ba3-a156-23c738f6188f')\"\n",
              "            title=\"Convert this dataframe to an interactive table.\"\n",
              "            style=\"display:none;\">\n",
              "\n",
              "  <svg xmlns=\"http://www.w3.org/2000/svg\" height=\"24px\" viewBox=\"0 -960 960 960\">\n",
              "    <path d=\"M120-120v-720h720v720H120Zm60-500h600v-160H180v160Zm220 220h160v-160H400v160Zm0 220h160v-160H400v160ZM180-400h160v-160H180v160Zm440 0h160v-160H620v160ZM180-180h160v-160H180v160Zm440 0h160v-160H620v160Z\"/>\n",
              "  </svg>\n",
              "    </button>\n",
              "\n",
              "  <style>\n",
              "    .colab-df-container {\n",
              "      display:flex;\n",
              "      gap: 12px;\n",
              "    }\n",
              "\n",
              "    .colab-df-convert {\n",
              "      background-color: #E8F0FE;\n",
              "      border: none;\n",
              "      border-radius: 50%;\n",
              "      cursor: pointer;\n",
              "      display: none;\n",
              "      fill: #1967D2;\n",
              "      height: 32px;\n",
              "      padding: 0 0 0 0;\n",
              "      width: 32px;\n",
              "    }\n",
              "\n",
              "    .colab-df-convert:hover {\n",
              "      background-color: #E2EBFA;\n",
              "      box-shadow: 0px 1px 2px rgba(60, 64, 67, 0.3), 0px 1px 3px 1px rgba(60, 64, 67, 0.15);\n",
              "      fill: #174EA6;\n",
              "    }\n",
              "\n",
              "    .colab-df-buttons div {\n",
              "      margin-bottom: 4px;\n",
              "    }\n",
              "\n",
              "    [theme=dark] .colab-df-convert {\n",
              "      background-color: #3B4455;\n",
              "      fill: #D2E3FC;\n",
              "    }\n",
              "\n",
              "    [theme=dark] .colab-df-convert:hover {\n",
              "      background-color: #434B5C;\n",
              "      box-shadow: 0px 1px 3px 1px rgba(0, 0, 0, 0.15);\n",
              "      filter: drop-shadow(0px 1px 2px rgba(0, 0, 0, 0.3));\n",
              "      fill: #FFFFFF;\n",
              "    }\n",
              "  </style>\n",
              "\n",
              "    <script>\n",
              "      const buttonEl =\n",
              "        document.querySelector('#df-d0f61cdb-f7d4-4ba3-a156-23c738f6188f button.colab-df-convert');\n",
              "      buttonEl.style.display =\n",
              "        google.colab.kernel.accessAllowed ? 'block' : 'none';\n",
              "\n",
              "      async function convertToInteractive(key) {\n",
              "        const element = document.querySelector('#df-d0f61cdb-f7d4-4ba3-a156-23c738f6188f');\n",
              "        const dataTable =\n",
              "          await google.colab.kernel.invokeFunction('convertToInteractive',\n",
              "                                                    [key], {});\n",
              "        if (!dataTable) return;\n",
              "\n",
              "        const docLinkHtml = 'Like what you see? Visit the ' +\n",
              "          '<a target=\"_blank\" href=https://colab.research.google.com/notebooks/data_table.ipynb>data table notebook</a>'\n",
              "          + ' to learn more about interactive tables.';\n",
              "        element.innerHTML = '';\n",
              "        dataTable['output_type'] = 'display_data';\n",
              "        await google.colab.output.renderOutput(dataTable, element);\n",
              "        const docLink = document.createElement('div');\n",
              "        docLink.innerHTML = docLinkHtml;\n",
              "        element.appendChild(docLink);\n",
              "      }\n",
              "    </script>\n",
              "  </div>\n",
              "\n",
              "\n",
              "<div id=\"df-0a86e5b4-66d0-41e0-8c74-7325ce079b82\">\n",
              "  <button class=\"colab-df-quickchart\" onclick=\"quickchart('df-0a86e5b4-66d0-41e0-8c74-7325ce079b82')\"\n",
              "            title=\"Suggest charts\"\n",
              "            style=\"display:none;\">\n",
              "\n",
              "<svg xmlns=\"http://www.w3.org/2000/svg\" height=\"24px\"viewBox=\"0 0 24 24\"\n",
              "     width=\"24px\">\n",
              "    <g>\n",
              "        <path d=\"M19 3H5c-1.1 0-2 .9-2 2v14c0 1.1.9 2 2 2h14c1.1 0 2-.9 2-2V5c0-1.1-.9-2-2-2zM9 17H7v-7h2v7zm4 0h-2V7h2v10zm4 0h-2v-4h2v4z\"/>\n",
              "    </g>\n",
              "</svg>\n",
              "  </button>\n",
              "\n",
              "<style>\n",
              "  .colab-df-quickchart {\n",
              "      --bg-color: #E8F0FE;\n",
              "      --fill-color: #1967D2;\n",
              "      --hover-bg-color: #E2EBFA;\n",
              "      --hover-fill-color: #174EA6;\n",
              "      --disabled-fill-color: #AAA;\n",
              "      --disabled-bg-color: #DDD;\n",
              "  }\n",
              "\n",
              "  [theme=dark] .colab-df-quickchart {\n",
              "      --bg-color: #3B4455;\n",
              "      --fill-color: #D2E3FC;\n",
              "      --hover-bg-color: #434B5C;\n",
              "      --hover-fill-color: #FFFFFF;\n",
              "      --disabled-bg-color: #3B4455;\n",
              "      --disabled-fill-color: #666;\n",
              "  }\n",
              "\n",
              "  .colab-df-quickchart {\n",
              "    background-color: var(--bg-color);\n",
              "    border: none;\n",
              "    border-radius: 50%;\n",
              "    cursor: pointer;\n",
              "    display: none;\n",
              "    fill: var(--fill-color);\n",
              "    height: 32px;\n",
              "    padding: 0;\n",
              "    width: 32px;\n",
              "  }\n",
              "\n",
              "  .colab-df-quickchart:hover {\n",
              "    background-color: var(--hover-bg-color);\n",
              "    box-shadow: 0 1px 2px rgba(60, 64, 67, 0.3), 0 1px 3px 1px rgba(60, 64, 67, 0.15);\n",
              "    fill: var(--button-hover-fill-color);\n",
              "  }\n",
              "\n",
              "  .colab-df-quickchart-complete:disabled,\n",
              "  .colab-df-quickchart-complete:disabled:hover {\n",
              "    background-color: var(--disabled-bg-color);\n",
              "    fill: var(--disabled-fill-color);\n",
              "    box-shadow: none;\n",
              "  }\n",
              "\n",
              "  .colab-df-spinner {\n",
              "    border: 2px solid var(--fill-color);\n",
              "    border-color: transparent;\n",
              "    border-bottom-color: var(--fill-color);\n",
              "    animation:\n",
              "      spin 1s steps(1) infinite;\n",
              "  }\n",
              "\n",
              "  @keyframes spin {\n",
              "    0% {\n",
              "      border-color: transparent;\n",
              "      border-bottom-color: var(--fill-color);\n",
              "      border-left-color: var(--fill-color);\n",
              "    }\n",
              "    20% {\n",
              "      border-color: transparent;\n",
              "      border-left-color: var(--fill-color);\n",
              "      border-top-color: var(--fill-color);\n",
              "    }\n",
              "    30% {\n",
              "      border-color: transparent;\n",
              "      border-left-color: var(--fill-color);\n",
              "      border-top-color: var(--fill-color);\n",
              "      border-right-color: var(--fill-color);\n",
              "    }\n",
              "    40% {\n",
              "      border-color: transparent;\n",
              "      border-right-color: var(--fill-color);\n",
              "      border-top-color: var(--fill-color);\n",
              "    }\n",
              "    60% {\n",
              "      border-color: transparent;\n",
              "      border-right-color: var(--fill-color);\n",
              "    }\n",
              "    80% {\n",
              "      border-color: transparent;\n",
              "      border-right-color: var(--fill-color);\n",
              "      border-bottom-color: var(--fill-color);\n",
              "    }\n",
              "    90% {\n",
              "      border-color: transparent;\n",
              "      border-bottom-color: var(--fill-color);\n",
              "    }\n",
              "  }\n",
              "</style>\n",
              "\n",
              "  <script>\n",
              "    async function quickchart(key) {\n",
              "      const quickchartButtonEl =\n",
              "        document.querySelector('#' + key + ' button');\n",
              "      quickchartButtonEl.disabled = true;  // To prevent multiple clicks.\n",
              "      quickchartButtonEl.classList.add('colab-df-spinner');\n",
              "      try {\n",
              "        const charts = await google.colab.kernel.invokeFunction(\n",
              "            'suggestCharts', [key], {});\n",
              "      } catch (error) {\n",
              "        console.error('Error during call to suggestCharts:', error);\n",
              "      }\n",
              "      quickchartButtonEl.classList.remove('colab-df-spinner');\n",
              "      quickchartButtonEl.classList.add('colab-df-quickchart-complete');\n",
              "    }\n",
              "    (() => {\n",
              "      let quickchartButtonEl =\n",
              "        document.querySelector('#df-0a86e5b4-66d0-41e0-8c74-7325ce079b82 button');\n",
              "      quickchartButtonEl.style.display =\n",
              "        google.colab.kernel.accessAllowed ? 'block' : 'none';\n",
              "    })();\n",
              "  </script>\n",
              "</div>\n",
              "\n",
              "    </div>\n",
              "  </div>\n"
            ],
            "application/vnd.google.colaboratory.intrinsic+json": {
              "type": "dataframe",
              "variable_name": "prep_transcriptions_df",
              "summary": "{\n  \"name\": \"prep_transcriptions_df\",\n  \"rows\": 2000,\n  \"fields\": [\n    {\n      \"column\": \"file_name\",\n      \"properties\": {\n        \"dtype\": \"string\",\n        \"num_unique_values\": 2000,\n        \"samples\": [\n          \"ak_gh_image_0930_u238_1_1680092429538_14827.mp3\",\n          \"ak_gh_image_0102_u1069_1_1682474290068_10566.mp3\",\n          \"ak_gh_image_0576_u1609_1_1683068714942_13951.mp3\"\n        ],\n        \"semantic_type\": \"\",\n        \"description\": \"\"\n      }\n    },\n    {\n      \"column\": \"transcription\",\n      \"properties\": {\n        \"dtype\": \"string\",\n        \"num_unique_values\": 2000,\n        \"samples\": [\n          \"Mmabaawa mmienu de ntoma asiesie w\\u0254n ho gyina badwam \\u025bresa. Mmabaawa yi de ade fitaa ab\\u0254 w\\u0254n ti, w\\u0254de awene\\u025b agugu w\\u0254n nsa ne w\\u0254n k\\u0254n mu. Amamfo\\u0254 gyinagyina w\\u0254n akyi a w\\u0254rehw\\u025b w\\u0254n. \",\n          \"\\u0190ha y\\u025b dwam, na ntoma bebree sss . Sens\\u025bn h\\u0254. Maame bi s so ade\\u025b bi w\\u0254 ne ti so a \\u0254ret\\u0254n a \\u0254sane kita bi w\\u0254 ne nsam, na nkur\\u0254fo\\u0254 di n'akyi a w\\u0254retwam. \",\n          \"Nyimpad\\u0254m a woehyia a binom tsenatsena h\\u0254, na binom so gyina h\\u0254n enyim a w\\u0254rekasa kyer\\u025b h\\u0254n. Na w\\u0254akyer\\u025bw h\\u0254n ekyir h\\u0254 d\\u025b Aban Sikas\\u025bm Nhyehy\\u025b\\u025b ho ma Ebibiman. \"\n        ],\n        \"semantic_type\": \"\",\n        \"description\": \"\"\n      }\n    }\n  ]\n}"
            }
          },
          "metadata": {},
          "execution_count": 116
        }
      ]
    },
    {
      "cell_type": "code",
      "source": [
        "# save prepared transcription as metadata\n",
        "\n",
        "prep_transcriptions_df.to_csv(\"/content/drive/MyDrive/Colab Notebooks/whispher-ak-gh-new-era/dataset/metadata-2000.csv\",index=False)"
      ],
      "metadata": {
        "id": "vmJckntqxqAf"
      },
      "execution_count": 117,
      "outputs": []
    },
    {
      "cell_type": "markdown",
      "source": [
        "### **Exploratory Data Analysis**"
      ],
      "metadata": {
        "id": "isG7LdLGLNvs"
      }
    },
    {
      "cell_type": "code",
      "source": [
        "transcriptions_df.shape"
      ],
      "metadata": {
        "id": "2GHQk-zSyySh",
        "colab": {
          "base_uri": "https://localhost:8080/"
        },
        "outputId": "c184e121-e584-4078-b7dd-4458e1b3d1aa"
      },
      "execution_count": 118,
      "outputs": [
        {
          "output_type": "execute_result",
          "data": {
            "text/plain": [
              "(2000, 17)"
            ]
          },
          "metadata": {},
          "execution_count": 118
        }
      ]
    },
    {
      "cell_type": "code",
      "source": [
        "transcriptions_df.info()"
      ],
      "metadata": {
        "id": "skc6z7V9y0PP",
        "colab": {
          "base_uri": "https://localhost:8080/"
        },
        "outputId": "85675c4b-65cd-49ec-9cc4-9ed8a598b49b"
      },
      "execution_count": 119,
      "outputs": [
        {
          "output_type": "stream",
          "name": "stdout",
          "text": [
            "<class 'pandas.core.frame.DataFrame'>\n",
            "RangeIndex: 2000 entries, 0 to 1999\n",
            "Data columns (total 17 columns):\n",
            " #   Column          Non-Null Count  Dtype \n",
            "---  ------          --------------  ----- \n",
            " 0   unamed          2000 non-null   int64 \n",
            " 1   File No.        2000 non-null   int64 \n",
            " 2   IMAGE_PATH      2000 non-null   object\n",
            " 3   IMAGE_SRC_URL   2000 non-null   object\n",
            " 4   AUDIO_PATH      2000 non-null   object\n",
            " 5   Transcriptions  2000 non-null   object\n",
            " 6   SPEAKER_ID      2000 non-null   int64 \n",
            " 7   ORG_NAME        2000 non-null   object\n",
            " 8   PROJECT_NAME    2000 non-null   object\n",
            " 9   LOCALE          2000 non-null   object\n",
            " 10  GENDER          2000 non-null   object\n",
            " 11  AGE             2000 non-null   int64 \n",
            " 12  DEVICE          2000 non-null   object\n",
            " 13  ENVIRONMENT     2000 non-null   object\n",
            " 14  YEAR            2000 non-null   int64 \n",
            " 15  Full Filename   2000 non-null   object\n",
            " 16  Filename        2000 non-null   object\n",
            "dtypes: int64(5), object(12)\n",
            "memory usage: 265.8+ KB\n"
          ]
        }
      ]
    },
    {
      "cell_type": "code",
      "source": [
        "transcriptions_df.isnull().sum()"
      ],
      "metadata": {
        "id": "XptdAImPy3Wn",
        "colab": {
          "base_uri": "https://localhost:8080/",
          "height": 617
        },
        "outputId": "92b82f97-93da-4ea6-e8d3-62cbeedd6571"
      },
      "execution_count": 120,
      "outputs": [
        {
          "output_type": "execute_result",
          "data": {
            "text/plain": [
              "unamed            0\n",
              "File No.          0\n",
              "IMAGE_PATH        0\n",
              "IMAGE_SRC_URL     0\n",
              "AUDIO_PATH        0\n",
              "Transcriptions    0\n",
              "SPEAKER_ID        0\n",
              "ORG_NAME          0\n",
              "PROJECT_NAME      0\n",
              "LOCALE            0\n",
              "GENDER            0\n",
              "AGE               0\n",
              "DEVICE            0\n",
              "ENVIRONMENT       0\n",
              "YEAR              0\n",
              "Full Filename     0\n",
              "Filename          0\n",
              "dtype: int64"
            ],
            "text/html": [
              "<div>\n",
              "<style scoped>\n",
              "    .dataframe tbody tr th:only-of-type {\n",
              "        vertical-align: middle;\n",
              "    }\n",
              "\n",
              "    .dataframe tbody tr th {\n",
              "        vertical-align: top;\n",
              "    }\n",
              "\n",
              "    .dataframe thead th {\n",
              "        text-align: right;\n",
              "    }\n",
              "</style>\n",
              "<table border=\"1\" class=\"dataframe\">\n",
              "  <thead>\n",
              "    <tr style=\"text-align: right;\">\n",
              "      <th></th>\n",
              "      <th>0</th>\n",
              "    </tr>\n",
              "  </thead>\n",
              "  <tbody>\n",
              "    <tr>\n",
              "      <th>unamed</th>\n",
              "      <td>0</td>\n",
              "    </tr>\n",
              "    <tr>\n",
              "      <th>File No.</th>\n",
              "      <td>0</td>\n",
              "    </tr>\n",
              "    <tr>\n",
              "      <th>IMAGE_PATH</th>\n",
              "      <td>0</td>\n",
              "    </tr>\n",
              "    <tr>\n",
              "      <th>IMAGE_SRC_URL</th>\n",
              "      <td>0</td>\n",
              "    </tr>\n",
              "    <tr>\n",
              "      <th>AUDIO_PATH</th>\n",
              "      <td>0</td>\n",
              "    </tr>\n",
              "    <tr>\n",
              "      <th>Transcriptions</th>\n",
              "      <td>0</td>\n",
              "    </tr>\n",
              "    <tr>\n",
              "      <th>SPEAKER_ID</th>\n",
              "      <td>0</td>\n",
              "    </tr>\n",
              "    <tr>\n",
              "      <th>ORG_NAME</th>\n",
              "      <td>0</td>\n",
              "    </tr>\n",
              "    <tr>\n",
              "      <th>PROJECT_NAME</th>\n",
              "      <td>0</td>\n",
              "    </tr>\n",
              "    <tr>\n",
              "      <th>LOCALE</th>\n",
              "      <td>0</td>\n",
              "    </tr>\n",
              "    <tr>\n",
              "      <th>GENDER</th>\n",
              "      <td>0</td>\n",
              "    </tr>\n",
              "    <tr>\n",
              "      <th>AGE</th>\n",
              "      <td>0</td>\n",
              "    </tr>\n",
              "    <tr>\n",
              "      <th>DEVICE</th>\n",
              "      <td>0</td>\n",
              "    </tr>\n",
              "    <tr>\n",
              "      <th>ENVIRONMENT</th>\n",
              "      <td>0</td>\n",
              "    </tr>\n",
              "    <tr>\n",
              "      <th>YEAR</th>\n",
              "      <td>0</td>\n",
              "    </tr>\n",
              "    <tr>\n",
              "      <th>Full Filename</th>\n",
              "      <td>0</td>\n",
              "    </tr>\n",
              "    <tr>\n",
              "      <th>Filename</th>\n",
              "      <td>0</td>\n",
              "    </tr>\n",
              "  </tbody>\n",
              "</table>\n",
              "</div><br><label><b>dtype:</b> int64</label>"
            ]
          },
          "metadata": {},
          "execution_count": 120
        }
      ]
    },
    {
      "cell_type": "code",
      "source": [
        "transcriptions_df.columns"
      ],
      "metadata": {
        "id": "_EFAX2Wry6TB",
        "colab": {
          "base_uri": "https://localhost:8080/"
        },
        "outputId": "ecc0fcc1-6847-4e63-b52d-eaa3532d076a"
      },
      "execution_count": 121,
      "outputs": [
        {
          "output_type": "execute_result",
          "data": {
            "text/plain": [
              "Index(['unamed', 'File No.', 'IMAGE_PATH', 'IMAGE_SRC_URL', 'AUDIO_PATH',\n",
              "       'Transcriptions', 'SPEAKER_ID', 'ORG_NAME', 'PROJECT_NAME', 'LOCALE',\n",
              "       'GENDER', 'AGE', 'DEVICE', 'ENVIRONMENT', 'YEAR', 'Full Filename',\n",
              "       'Filename'],\n",
              "      dtype='object')"
            ]
          },
          "metadata": {},
          "execution_count": 121
        }
      ]
    },
    {
      "cell_type": "code",
      "source": [
        "data_size = len(transcriptions_df.index)\n",
        "data_size"
      ],
      "metadata": {
        "colab": {
          "base_uri": "https://localhost:8080/"
        },
        "id": "YeUqM2qMo7Ea",
        "outputId": "bb2ede33-0044-4718-80b9-9bc2e56a4f35"
      },
      "execution_count": 122,
      "outputs": [
        {
          "output_type": "execute_result",
          "data": {
            "text/plain": [
              "2000"
            ]
          },
          "metadata": {},
          "execution_count": 122
        }
      ]
    },
    {
      "cell_type": "code",
      "source": [
        "def plot_bar_chart(transcriptions_df, column_name, x_label, y_label, plt_title,  figsize=(10, 6)):\n",
        "\n",
        "  # Convert the specified column to a categorical data type.\n",
        "  transcriptions_df[f'{column_name}'] = pd.Categorical(transcriptions_df[f'{column_name}'])\n",
        "\n",
        "    # Create a figure and axes with the specified figsize\n",
        "  # fig, ax = plt.subplots(figsize=figsize)\n",
        "\n",
        "  # plot gender distribution\n",
        "  gender_counts = transcriptions_df[f'{column_name}'].value_counts()\n",
        "  gender_counts.plot(kind='bar')\n",
        "  plt.xlabel(f'{x_label}')\n",
        "  plt.ylabel(f'{y_label}')\n",
        "  plt.title(f'{plt_title}')\n",
        "  plt.show()"
      ],
      "metadata": {
        "id": "AQCQCRoMnkzh"
      },
      "execution_count": 123,
      "outputs": []
    },
    {
      "cell_type": "code",
      "source": [
        "# Plot Age Distribution\n",
        "\n",
        "plot_bar_chart(transcriptions_df, 'AGE', 'Age', 'Count', 'Age Distribution for Speakers')"
      ],
      "metadata": {
        "colab": {
          "base_uri": "https://localhost:8080/",
          "height": 475
        },
        "id": "9oHRh0V2oEjG",
        "outputId": "c753870c-19b3-4667-8a89-a863964062b0"
      },
      "execution_count": 124,
      "outputs": [
        {
          "output_type": "display_data",
          "data": {
            "text/plain": [
              "<Figure size 640x480 with 1 Axes>"
            ],
            "image/png": "[encoded data removed]"
          },
          "metadata": {}
        }
      ]
    },
    {
      "cell_type": "code",
      "source": [
        "male_count = transcriptions_df['GENDER'].value_counts().Male\n",
        "female_count = transcriptions_df['GENDER'].value_counts().Female\n",
        "\n",
        "male_count, female_count"
      ],
      "metadata": {
        "colab": {
          "base_uri": "https://localhost:8080/"
        },
        "id": "j1ngea5lo5mx",
        "outputId": "ac1cca42-3cb7-4d24-dcdf-cfadf903e898"
      },
      "execution_count": 125,
      "outputs": [
        {
          "output_type": "execute_result",
          "data": {
            "text/plain": [
              "(1190, 810)"
            ]
          },
          "metadata": {},
          "execution_count": 125
        }
      ]
    },
    {
      "cell_type": "code",
      "source": [
        "male = (male_count/data_size) * 100\n",
        "female = (female_count/data_size) * 100\n",
        "\n",
        "print(f\"Male speakers percentage: {male} %\")\n",
        "print(f\"Female speakers  percentage: {female} %\")"
      ],
      "metadata": {
        "colab": {
          "base_uri": "https://localhost:8080/"
        },
        "id": "kJGkF49Qodel",
        "outputId": "36711df5-8a3c-4732-afa0-9365b62ea5ba"
      },
      "execution_count": 126,
      "outputs": [
        {
          "output_type": "stream",
          "name": "stdout",
          "text": [
            "Male speakers percentage: 59.5 %\n",
            "Female speakers  percentage: 40.5 %\n"
          ]
        }
      ]
    },
    {
      "cell_type": "code",
      "source": [
        "# Plot Gender Distribution\n",
        "\n",
        "plot_bar_chart(transcriptions_df, 'GENDER', 'Gender', 'Count', 'Gender Distribution')"
      ],
      "metadata": {
        "id": "HeNPXoNoocK8",
        "colab": {
          "base_uri": "https://localhost:8080/",
          "height": 508
        },
        "outputId": "e71a8366-218a-4cf3-f92f-5c040503db57"
      },
      "execution_count": 127,
      "outputs": [
        {
          "output_type": "display_data",
          "data": {
            "text/plain": [
              "<Figure size 640x480 with 1 Axes>"
            ],
            "image/png": "[encoded data removed]"
          },
          "metadata": {}
        }
      ]
    },
    {
      "cell_type": "code",
      "source": [
        "# Plot Environment Distribution\n",
        "\n",
        "plot_bar_chart(transcriptions_df, 'ENVIRONMENT', 'ENVIRONMENT', 'Count', 'ENVIRONMENT Distribution')"
      ],
      "metadata": {
        "id": "OwfJ1ACEzcoj",
        "colab": {
          "base_uri": "https://localhost:8080/",
          "height": 514
        },
        "outputId": "08c2cf28-9b66-46b4-939f-5b1583e3edcd"
      },
      "execution_count": 128,
      "outputs": [
        {
          "output_type": "display_data",
          "data": {
            "text/plain": [
              "<Figure size 640x480 with 1 Axes>"
            ],
            "image/png": "[encoded data removed]"
          },
          "metadata": {}
        }
      ]
    },
    {
      "cell_type": "code",
      "source": [
        "transcriptions_df['SPEAKER_ID'].value_counts()"
      ],
      "metadata": {
        "id": "TPO4r6UxzhDC",
        "colab": {
          "base_uri": "https://localhost:8080/",
          "height": 490
        },
        "outputId": "5cb998d6-bb9e-4285-8251-d70cd980340a"
      },
      "execution_count": 129,
      "outputs": [
        {
          "output_type": "execute_result",
          "data": {
            "text/plain": [
              "SPEAKER_ID\n",
              "64      64\n",
              "4384    64\n",
              "65      57\n",
              "3868    55\n",
              "4811    48\n",
              "        ..\n",
              "5609     1\n",
              "6089     1\n",
              "5704     1\n",
              "6001     1\n",
              "5529     1\n",
              "Name: count, Length: 354, dtype: int64"
            ],
            "text/html": [
              "<div>\n",
              "<style scoped>\n",
              "    .dataframe tbody tr th:only-of-type {\n",
              "        vertical-align: middle;\n",
              "    }\n",
              "\n",
              "    .dataframe tbody tr th {\n",
              "        vertical-align: top;\n",
              "    }\n",
              "\n",
              "    .dataframe thead th {\n",
              "        text-align: right;\n",
              "    }\n",
              "</style>\n",
              "<table border=\"1\" class=\"dataframe\">\n",
              "  <thead>\n",
              "    <tr style=\"text-align: right;\">\n",
              "      <th></th>\n",
              "      <th>count</th>\n",
              "    </tr>\n",
              "    <tr>\n",
              "      <th>SPEAKER_ID</th>\n",
              "      <th></th>\n",
              "    </tr>\n",
              "  </thead>\n",
              "  <tbody>\n",
              "    <tr>\n",
              "      <th>64</th>\n",
              "      <td>64</td>\n",
              "    </tr>\n",
              "    <tr>\n",
              "      <th>4384</th>\n",
              "      <td>64</td>\n",
              "    </tr>\n",
              "    <tr>\n",
              "      <th>65</th>\n",
              "      <td>57</td>\n",
              "    </tr>\n",
              "    <tr>\n",
              "      <th>3868</th>\n",
              "      <td>55</td>\n",
              "    </tr>\n",
              "    <tr>\n",
              "      <th>4811</th>\n",
              "      <td>48</td>\n",
              "    </tr>\n",
              "    <tr>\n",
              "      <th>...</th>\n",
              "      <td>...</td>\n",
              "    </tr>\n",
              "    <tr>\n",
              "      <th>5609</th>\n",
              "      <td>1</td>\n",
              "    </tr>\n",
              "    <tr>\n",
              "      <th>6089</th>\n",
              "      <td>1</td>\n",
              "    </tr>\n",
              "    <tr>\n",
              "      <th>5704</th>\n",
              "      <td>1</td>\n",
              "    </tr>\n",
              "    <tr>\n",
              "      <th>6001</th>\n",
              "      <td>1</td>\n",
              "    </tr>\n",
              "    <tr>\n",
              "      <th>5529</th>\n",
              "      <td>1</td>\n",
              "    </tr>\n",
              "  </tbody>\n",
              "</table>\n",
              "<p>354 rows × 1 columns</p>\n",
              "</div><br><label><b>dtype:</b> int64</label>"
            ]
          },
          "metadata": {},
          "execution_count": 129
        }
      ]
    },
    {
      "cell_type": "code",
      "source": [
        "# Number of Speakers in the dataset\n",
        "\n",
        "print(f\"The are {transcriptions_df['SPEAKER_ID'].nunique()} number of speakers in the dataset\")"
      ],
      "metadata": {
        "colab": {
          "base_uri": "https://localhost:8080/"
        },
        "id": "eXcLKIZIsXmV",
        "outputId": "53d8cbd2-158e-42da-f99f-9689e48a0e48"
      },
      "execution_count": 130,
      "outputs": [
        {
          "output_type": "stream",
          "name": "stdout",
          "text": [
            "The are 354 number of speakers in the dataset\n"
          ]
        }
      ]
    }
  ]
}