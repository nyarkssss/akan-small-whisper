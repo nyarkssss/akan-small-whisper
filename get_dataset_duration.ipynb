{
  "cells": [
    {
      "cell_type": "code",
      "execution_count": null,
      "metadata": {
        "id": "uxVytXWem946"
      },
      "outputs": [],
      "source": [
        "import glob\n",
        "import librosa\n",
        "import numpy as np"
      ]
    },
    {
      "cell_type": "code",
      "execution_count": null,
      "metadata": {
        "id": "s-yV4Mu1m949"
      },
      "outputs": [],
      "source": [
        "# audio files\n",
        "\n",
        "paths = glob.glob(r\"random_2000\\random_2000_audio\\*.mp3\")"
      ]
    },
    {
      "cell_type": "code",
      "execution_count": null,
      "metadata": {
        "id": "p_Wye4Y-m94_"
      },
      "outputs": [],
      "source": [
        "durations = [librosa.get_duration(path=p) for p in paths]"
      ]
    },
    {
      "cell_type": "code",
      "execution_count": null,
      "metadata": {
        "id": "gaOeU2bjm95C",
        "outputId": "b5900041-2dd2-4fe4-d9ba-93dfd2c9b539"
      },
      "outputs": [
        {
          "data": {
            "text/plain": [
              "2000"
            ]
          },
          "execution_count": 12,
          "metadata": {},
          "output_type": "execute_result"
        }
      ],
      "source": [
        "len(durations)"
      ]
    },
    {
      "cell_type": "code",
      "execution_count": null,
      "metadata": {
        "id": "DuPamWuom95E"
      },
      "outputs": [],
      "source": [
        "total = 0\n",
        "\n",
        "for duration in durations:\n",
        "  total+=duration"
      ]
    },
    {
      "cell_type": "code",
      "execution_count": null,
      "metadata": {
        "id": "r9jlM6Mym95G",
        "outputId": "2c41c257-7319-4b33-98b2-083c756bc944"
      },
      "outputs": [
        {
          "data": {
            "text/plain": [
              "{'average': np.float64(19.45102811791383),\n",
              " 'max': np.float64(29.84),\n",
              " 'min': np.float64(15.08),\n",
              " 'total': 38902.056235827695}"
            ]
          },
          "execution_count": 14,
          "metadata": {},
          "output_type": "execute_result"
        }
      ],
      "source": [
        "stats = {\n",
        "    'average': np.mean(durations),\n",
        "    'max': np.max(durations),\n",
        "    'min': np.min(durations),\n",
        "    'total': total\n",
        "}\n",
        "\n",
        "stats"
      ]
    },
    {
      "cell_type": "code",
      "execution_count": null,
      "metadata": {
        "id": "yGmPADAZm95I",
        "outputId": "2c31b6af-78ef-4253-91a5-d6d2bf98e6cd"
      },
      "outputs": [
        {
          "name": "stdout",
          "output_type": "stream",
          "text": [
            "The total duration of all samples is 10.80612673217436 hours\n"
          ]
        }
      ],
      "source": [
        "print(f\"The total duration of all samples is {total/3600} hours\")"
      ]
    }
  ],
  "metadata": {
    "kernelspec": {
      "display_name": "asr_venv",
      "language": "python",
      "name": "python3"
    },
    "language_info": {
      "codemirror_mode": {
        "name": "ipython",
        "version": 3
      },
      "file_extension": ".py",
      "mimetype": "text/x-python",
      "name": "python",
      "nbconvert_exporter": "python",
      "pygments_lexer": "ipython3",
      "version": "3.12.6"
    },
    "colab": {
      "provenance": []
    }
  },
  "nbformat": 4,
  "nbformat_minor": 0
}